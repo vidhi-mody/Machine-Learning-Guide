{
 "cells": [
  {
   "cell_type": "markdown",
   "metadata": {},
   "source": [
    "### Import the required libraries"
   ]
  },
  {
   "cell_type": "code",
   "execution_count": 17,
   "metadata": {},
   "outputs": [],
   "source": [
    "import numpy as np\n",
    "import pandas as pd\n",
    "import matplotlib.pyplot as plt #for visualizations"
   ]
  },
  {
   "cell_type": "markdown",
   "metadata": {},
   "source": [
    "### Import the dataset"
   ]
  },
  {
   "cell_type": "code",
   "execution_count": 18,
   "metadata": {},
   "outputs": [],
   "source": [
    "data = pd.read_csv('ProductPurchase.csv')"
   ]
  },
  {
   "cell_type": "code",
   "execution_count": 19,
   "metadata": {},
   "outputs": [],
   "source": [
    "#Identify dependent and independent variables\n",
    "X = data.iloc[:,:-1].values #independent variables\n",
    "Y = data.iloc[:,-1].values #dependent variable"
   ]
  },
  {
   "cell_type": "code",
   "execution_count": 20,
   "metadata": {},
   "outputs": [
    {
     "name": "stdout",
     "output_type": "stream",
     "text": [
      "[['Male' 40.0 58000.0]\n",
      " ['Female' 28.0 50000.0]\n",
      " ['Male' 56.0 72000.0]\n",
      " ['Female' 23.0 55000.0]\n",
      " ['Female' 38.0 nan]\n",
      " ['Male' nan 66000.0]\n",
      " ['Male' 49.0 45000.0]\n",
      " ['Male' 52.0 38000.0]\n",
      " ['Female' 32.0 62000.0]\n",
      " ['Male' 55.0 nan]]\n"
     ]
    }
   ],
   "source": [
    "print(X)"
   ]
  },
  {
   "cell_type": "code",
   "execution_count": 21,
   "metadata": {},
   "outputs": [
    {
     "name": "stdout",
     "output_type": "stream",
     "text": [
      "['No' 'No' 'No' 'Yes' 'Yes' 'Yes' 'No' 'Yes' 'Yes' 'Yes']\n"
     ]
    }
   ],
   "source": [
    "print(Y)"
   ]
  },
  {
   "cell_type": "markdown",
   "metadata": {},
   "source": [
    "### Handling missing data"
   ]
  },
  {
   "cell_type": "code",
   "execution_count": 22,
   "metadata": {},
   "outputs": [
    {
     "name": "stdout",
     "output_type": "stream",
     "text": [
      "Old dataframe length: 10\n",
      "New dataframe length: 7\n"
     ]
    }
   ],
   "source": [
    "#Method 1: Delete rows with missing data\n",
    "dropData = pd.read_csv('ProductPurchase.csv')\n",
    "print(\"Old dataframe length:\",len(dropData))\n",
    "dropData = dropData.dropna()\n",
    "print(\"New dataframe length:\",len(dropData))\n",
    "\n",
    "#Note: This method is advisable only when missing data is 1% of the entire dataset"
   ]
  },
  {
   "cell_type": "code",
   "execution_count": 23,
   "metadata": {},
   "outputs": [
    {
     "name": "stdout",
     "output_type": "stream",
     "text": [
      "Null values before imputation:\n",
      " Gender       0\n",
      "Age          1\n",
      "Salary       2\n",
      "Purchased    0\n",
      "dtype: int64\n",
      "\n",
      "Dataframe after imputation:\n",
      "    Gender        Age   Salary Purchased\n",
      "0    Male  40.000000  58000.0        No\n",
      "1  Female  28.000000  50000.0        No\n",
      "2    Male  56.000000  72000.0        No\n",
      "3  Female  23.000000  55000.0       Yes\n",
      "4  Female  38.000000  55750.0       Yes\n",
      "5    Male  41.444444  66000.0       Yes\n",
      "6    Male  49.000000  45000.0        No\n",
      "7    Male  52.000000  38000.0       Yes\n",
      "8  Female  32.000000  62000.0       Yes\n",
      "9    Male  55.000000  55750.0       Yes\n"
     ]
    }
   ],
   "source": [
    "#Method 2A: Impute missing values with numpy\n",
    "imputeData = pd.read_csv('ProductPurchase.csv')\n",
    "print(\"Null values before imputation:\\n\",imputeData.isnull().sum())\n",
    "# fill missing values with mean column values\n",
    "imputeData.fillna(imputeData.mean(), inplace=True)\n",
    "print(\"\\nDataframe after imputation:\\n\",imputeData)"
   ]
  },
  {
   "cell_type": "code",
   "execution_count": 31,
   "metadata": {},
   "outputs": [
    {
     "name": "stdout",
     "output_type": "stream",
     "text": [
      "[['Male' 40.0 58000.0]\n",
      " ['Female' 28.0 50000.0]\n",
      " ['Male' 56.0 72000.0]\n",
      " ['Female' 23.0 55000.0]\n",
      " ['Female' 38.0 55750.0]\n",
      " ['Male' 41.44444444444444 66000.0]\n",
      " ['Male' 49.0 45000.0]\n",
      " ['Male' 52.0 38000.0]\n",
      " ['Female' 32.0 62000.0]\n",
      " ['Male' 55.0 55750.0]]\n"
     ]
    }
   ],
   "source": [
    "#Method 2B: Impute missing values with sklearn\n",
    "from sklearn.impute import SimpleImputer\n",
    "imputer = SimpleImputer(missing_values=np.nan, strategy='mean')\n",
    "imputer.fit(X[:,1:3])\n",
    "X[:,1:3] = imputer.transform(X[:, 1:3])\n",
    "print(X)"
   ]
  },
  {
   "cell_type": "markdown",
   "metadata": {},
   "source": [
    "### Encoding Categorical Data"
   ]
  },
  {
   "cell_type": "code",
   "execution_count": 36,
   "metadata": {},
   "outputs": [
    {
     "name": "stdout",
     "output_type": "stream",
     "text": [
      "   Gender   Age   Salary Purchased\n",
      "0     1.0  40.0  58000.0        No\n",
      "1     0.0  28.0  50000.0        No\n",
      "2     1.0  56.0  72000.0        No\n",
      "3     0.0  23.0  55000.0       Yes\n",
      "4     0.0  38.0      NaN       Yes\n",
      "5     1.0   NaN  66000.0       Yes\n",
      "6     1.0  49.0  45000.0        No\n",
      "7     1.0  52.0  38000.0       Yes\n",
      "8     0.0  32.0  62000.0       Yes\n",
      "9     1.0  55.0      NaN       Yes\n"
     ]
    }
   ],
   "source": [
    "#Method 1: OrdinalEncoder\n",
    "from sklearn.preprocessing import OrdinalEncoder\n",
    "ordinalData = data\n",
    "encoder = OrdinalEncoder()\n",
    "encoder.fit(ordinalData[[\"Gender\"]])\n",
    "ordinalData[[\"Gender\"]] = encoder.transform(ordinalData[[\"Gender\"]])\n",
    "print(ordinalData)\n",
    "\n",
    "#If there is no relation between the values of the column this method is not ideal.\n",
    "# An example where this method can be used is Size of a T-shirt (small,medium large) can be encoded as (0,1,2)"
   ]
  },
  {
   "cell_type": "code",
   "execution_count": 47,
   "metadata": {},
   "outputs": [
    {
     "name": "stdout",
     "output_type": "stream",
     "text": [
      "    Age   Salary Purchased  Female\n",
      "0  40.0  58000.0        No       0\n",
      "1  28.0  50000.0        No       1\n",
      "2  56.0  72000.0        No       0\n",
      "3  23.0  55000.0       Yes       1\n",
      "4  38.0      NaN       Yes       1\n",
      "5   NaN  66000.0       Yes       0\n",
      "6  49.0  45000.0        No       0\n",
      "7  52.0  38000.0       Yes       0\n",
      "8  32.0  62000.0       Yes       1\n",
      "9  55.0      NaN       Yes       0\n"
     ]
    }
   ],
   "source": [
    "#Method 2: Dummy Variables\n",
    "dummyData = pd.read_csv('ProductPurchase.csv')\n",
    "encodedGender = pd.get_dummies(dummyData.Gender)\n",
    "tempData = pd.concat([dummyData, encodedGender], axis='columns')\n",
    "encodedData = tempData.drop(['Gender','Male'], axis='columns') #Dropped due to the dummy variable trap\n",
    "#Read more about it here: https://www.algosome.com/articles/dummy-variable-trap-regression.html\n",
    "print(encodedData)"
   ]
  },
  {
   "cell_type": "code",
   "execution_count": 49,
   "metadata": {},
   "outputs": [
    {
     "data": {
      "text/html": [
       "<div>\n",
       "<style scoped>\n",
       "    .dataframe tbody tr th:only-of-type {\n",
       "        vertical-align: middle;\n",
       "    }\n",
       "\n",
       "    .dataframe tbody tr th {\n",
       "        vertical-align: top;\n",
       "    }\n",
       "\n",
       "    .dataframe thead th {\n",
       "        text-align: right;\n",
       "    }\n",
       "</style>\n",
       "<table border=\"1\" class=\"dataframe\">\n",
       "  <thead>\n",
       "    <tr style=\"text-align: right;\">\n",
       "      <th></th>\n",
       "      <th>Gender</th>\n",
       "      <th>Age</th>\n",
       "      <th>Salary</th>\n",
       "      <th>Purchased</th>\n",
       "    </tr>\n",
       "  </thead>\n",
       "  <tbody>\n",
       "    <tr>\n",
       "      <th>0</th>\n",
       "      <td>1</td>\n",
       "      <td>40.0</td>\n",
       "      <td>58000.0</td>\n",
       "      <td>No</td>\n",
       "    </tr>\n",
       "    <tr>\n",
       "      <th>1</th>\n",
       "      <td>0</td>\n",
       "      <td>28.0</td>\n",
       "      <td>50000.0</td>\n",
       "      <td>No</td>\n",
       "    </tr>\n",
       "    <tr>\n",
       "      <th>2</th>\n",
       "      <td>1</td>\n",
       "      <td>56.0</td>\n",
       "      <td>72000.0</td>\n",
       "      <td>No</td>\n",
       "    </tr>\n",
       "    <tr>\n",
       "      <th>3</th>\n",
       "      <td>0</td>\n",
       "      <td>23.0</td>\n",
       "      <td>55000.0</td>\n",
       "      <td>Yes</td>\n",
       "    </tr>\n",
       "    <tr>\n",
       "      <th>4</th>\n",
       "      <td>0</td>\n",
       "      <td>38.0</td>\n",
       "      <td>NaN</td>\n",
       "      <td>Yes</td>\n",
       "    </tr>\n",
       "    <tr>\n",
       "      <th>5</th>\n",
       "      <td>1</td>\n",
       "      <td>NaN</td>\n",
       "      <td>66000.0</td>\n",
       "      <td>Yes</td>\n",
       "    </tr>\n",
       "    <tr>\n",
       "      <th>6</th>\n",
       "      <td>1</td>\n",
       "      <td>49.0</td>\n",
       "      <td>45000.0</td>\n",
       "      <td>No</td>\n",
       "    </tr>\n",
       "    <tr>\n",
       "      <th>7</th>\n",
       "      <td>1</td>\n",
       "      <td>52.0</td>\n",
       "      <td>38000.0</td>\n",
       "      <td>Yes</td>\n",
       "    </tr>\n",
       "    <tr>\n",
       "      <th>8</th>\n",
       "      <td>0</td>\n",
       "      <td>32.0</td>\n",
       "      <td>62000.0</td>\n",
       "      <td>Yes</td>\n",
       "    </tr>\n",
       "    <tr>\n",
       "      <th>9</th>\n",
       "      <td>1</td>\n",
       "      <td>55.0</td>\n",
       "      <td>NaN</td>\n",
       "      <td>Yes</td>\n",
       "    </tr>\n",
       "  </tbody>\n",
       "</table>\n",
       "</div>"
      ],
      "text/plain": [
       "   Gender   Age   Salary Purchased\n",
       "0       1  40.0  58000.0        No\n",
       "1       0  28.0  50000.0        No\n",
       "2       1  56.0  72000.0        No\n",
       "3       0  23.0  55000.0       Yes\n",
       "4       0  38.0      NaN       Yes\n",
       "5       1   NaN  66000.0       Yes\n",
       "6       1  49.0  45000.0        No\n",
       "7       1  52.0  38000.0       Yes\n",
       "8       0  32.0  62000.0       Yes\n",
       "9       1  55.0      NaN       Yes"
      ]
     },
     "execution_count": 49,
     "metadata": {},
     "output_type": "execute_result"
    }
   ],
   "source": [
    "#Method 3: Label Encoder\n",
    "from sklearn.preprocessing import LabelEncoder\n",
    "encoder = LabelEncoder()\n",
    "labelEncoderData = pd.read_csv('ProductPurchase.csv')\n",
    "labelEncoderData.Gender = encoder.fit_transform(labelEncoderData.Gender)\n",
    "labelEncoderData"
   ]
  },
  {
   "cell_type": "code",
   "execution_count": null,
   "metadata": {},
   "outputs": [],
   "source": []
  }
 ],
 "metadata": {
  "kernelspec": {
   "display_name": "Python 3",
   "language": "python",
   "name": "python3"
  },
  "language_info": {
   "codemirror_mode": {
    "name": "ipython",
    "version": 3
   },
   "file_extension": ".py",
   "mimetype": "text/x-python",
   "name": "python",
   "nbconvert_exporter": "python",
   "pygments_lexer": "ipython3",
   "version": "3.7.3"
  }
 },
 "nbformat": 4,
 "nbformat_minor": 2
}
